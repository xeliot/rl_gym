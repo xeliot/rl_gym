{
 "cells": [
  {
   "cell_type": "markdown",
   "metadata": {},
   "source": [
    "# Reinforcement Learning: CartPole DQN Solution"
   ]
  },
  {
   "cell_type": "markdown",
   "metadata": {},
   "source": [
    "<img src=\"./screenshots/dqn.png\" alt=\"drawing\" width=\"1500\"/>"
   ]
  },
  {
   "cell_type": "code",
   "execution_count": 1,
   "metadata": {},
   "outputs": [],
   "source": [
    "import gym\n",
    "import numpy as np\n",
    "import random\n",
    "import math\n",
    "\n",
    "from IPython.display import clear_output\n",
    "import matplotlib.pyplot as plt\n",
    "%matplotlib inline\n",
    "\n",
    "import torch\n",
    "import torch.nn as nn\n",
    "import torch.nn.functional as F\n",
    "import torch.optim as optim"
   ]
  },
  {
   "cell_type": "markdown",
   "metadata": {},
   "source": [
    "### Create Memory Buffer for Experience Replay"
   ]
  },
  {
   "cell_type": "code",
   "execution_count": 2,
   "metadata": {},
   "outputs": [],
   "source": [
    "class RingBuffer():\n",
    "    def __init__(self, size):\n",
    "        self.size = size\n",
    "        self.buffer_ar = []\n",
    "        for i in range(0, size):\n",
    "            self.buffer_ar.append(0)\n",
    "        self.counter = 0\n",
    "        self.full = False\n",
    "    \n",
    "    # add new experience to memory buffer\n",
    "    def add(self, value):\n",
    "        self.buffer_ar[self.counter] = value\n",
    "        self.counter += 1\n",
    "        if self.counter > self.size-1:\n",
    "            self.counter = 0\n",
    "            self.full = True\n",
    "            \n",
    "    # get n random samples from memory buffer\n",
    "    def get_random(self, last_n, sample_size):\n",
    "        if not self.full:\n",
    "            last_n = self.counter\n",
    "        if self.counter - last_n < 0:\n",
    "            end = np.linspace(self.counter-last_n, -1, -1*(self.counter-last_n))\n",
    "            start = np.linspace(0, self.counter-1, self.counter)\n",
    "            window = np.concatenate((end, start))\n",
    "        else:\n",
    "            window = np.linspace(self.counter-last_n, self.counter-1, last_n)\n",
    "            #print(window)\n",
    "        random_index = np.random.choice(a=window, size=sample_size, replace=False)\n",
    "        random_choices = []\n",
    "        for i in random_index:\n",
    "            random_choices.append(self.buffer_ar[int(i)])\n",
    "        return random_choices\n",
    "    \n",
    "    def __repr__(self):\n",
    "        return str(self.buffer_ar)"
   ]
  },
  {
   "cell_type": "markdown",
   "metadata": {},
   "source": [
    "### Function to decay epsilon; Exploration vs Exploitation"
   ]
  },
  {
   "cell_type": "code",
   "execution_count": 3,
   "metadata": {},
   "outputs": [],
   "source": [
    "def epsilon_by_frame(frame_idx):\n",
    "    #return 0\n",
    "    epsilon_start = 1.0\n",
    "    epsilon_final = 0.01\n",
    "    epsilon_decay = 500\n",
    "    return epsilon_final + (epsilon_start - epsilon_final) * math.exp(-1. * frame_idx / epsilon_decay)"
   ]
  },
  {
   "cell_type": "markdown",
   "metadata": {},
   "source": [
    "### Plot our rewards and loss recurrently during agent training"
   ]
  },
  {
   "cell_type": "code",
   "execution_count": 4,
   "metadata": {},
   "outputs": [],
   "source": [
    "def plot(frame, rewards, losses):\n",
    "    clear_output(True)\n",
    "    plt.figure(figsize=(20, 5))\n",
    "    plt.subplot(131)\n",
    "    plt.title(\"frame %s. reward: %s\" % (frame, np.mean(rewards[-10:])))\n",
    "    plt.plot(rewards)\n",
    "    plt.subplot(132)\n",
    "    plt.title('loss')\n",
    "    plt.plot(losses)\n",
    "    plt.ylim(0, 200)\n",
    "    plt.show()"
   ]
  },
  {
   "cell_type": "markdown",
   "metadata": {},
   "source": [
    "### Construct DQN network with Pytorch"
   ]
  },
  {
   "cell_type": "code",
   "execution_count": 5,
   "metadata": {},
   "outputs": [],
   "source": [
    "class DQN(nn.Module):\n",
    "    def __init__(self):\n",
    "        super(DQN, self).__init__()\n",
    "        self.fc1 = nn.Linear(4, 128)\n",
    "        self.fc2 = nn.Linear(128, 128)\n",
    "        self.fc3 = nn.Linear(128, 2)\n",
    "        \n",
    "    def forward(self, states):\n",
    "        #print(states)\n",
    "        out = F.relu(self.fc1(states))\n",
    "        out = F.relu(self.fc2(out))\n",
    "        out = self.fc3(out)\n",
    "        #print(out)\n",
    "        return out"
   ]
  },
  {
   "cell_type": "markdown",
   "metadata": {},
   "source": [
    "#### Initialize our DQN"
   ]
  },
  {
   "cell_type": "code",
   "execution_count": 6,
   "metadata": {},
   "outputs": [],
   "source": [
    "dqn = DQN()"
   ]
  },
  {
   "cell_type": "markdown",
   "metadata": {},
   "source": [
    "#### Specify our network's optimizer"
   ]
  },
  {
   "cell_type": "code",
   "execution_count": 7,
   "metadata": {},
   "outputs": [],
   "source": [
    "criterion = nn.MSELoss()\n",
    "optimizer = optim.Adam(dqn.parameters())"
   ]
  },
  {
   "cell_type": "markdown",
   "metadata": {},
   "source": [
    "### Training Loop"
   ]
  },
  {
   "cell_type": "code",
   "execution_count": 8,
   "metadata": {},
   "outputs": [
    {
     "data": {
      "image/png": "[encoded data removed]",
      "text/plain": [
       "<Figure size 1440x360 with 2 Axes>"
      ]
     },
     "metadata": {
      "needs_background": "light"
     },
     "output_type": "display_data"
    }
   ],
   "source": [
    "memory_buffer = RingBuffer(1000)\n",
    "learn_counter = 0\n",
    "gamma = 1.0\n",
    "frame = 0\n",
    "all_rewards = []\n",
    "all_losses = []\n",
    "env = gym.make('CartPole-v0')\n",
    "\n",
    "for episode in range(120):\n",
    "    observation = env.reset()\n",
    "    env.render()\n",
    "    lifespan = []\n",
    "    counter = 0\n",
    "    \n",
    "    while True:\n",
    "        frame += 1\n",
    "        counter += 1\n",
    "        env.render()\n",
    "        optimizer.zero_grad()\n",
    "        \n",
    "        # Epsilon greedy approach to decide whether to follow our policy or take random action\n",
    "        epsilon = epsilon_by_frame(frame)\n",
    "        if random.random() > epsilon:\n",
    "            observation_tensor = torch.tensor([observation], dtype=torch.float)\n",
    "            output = dqn(observation_tensor)\n",
    "            action = torch.argmax(output, dim=1).item()\n",
    "        else:\n",
    "            action = env.action_space.sample()\n",
    "            \n",
    "        # Take and observe action in real world\n",
    "        next_observation, reward, done, info = env.step(action)\n",
    "        memory_buffer.add([observation, action, reward, next_observation, done])\n",
    "        \n",
    "        learn_counter += 1\n",
    "        if learn_counter >= 128:\n",
    "            samples = memory_buffer.get_random(1000, 128)\n",
    "            s_0 = []\n",
    "            actions = []\n",
    "            rewards = []\n",
    "            s_1 = []\n",
    "            done_ar = []\n",
    "            for sample in samples:\n",
    "                s_0.append(sample[0])\n",
    "                actions.append(sample[1])\n",
    "                rewards.append(sample[2])\n",
    "                s_1.append(sample[3])\n",
    "                done_ar.append(sample[4])\n",
    "            \n",
    "            s_0_tensor = torch.tensor(s_0, dtype=torch.float)\n",
    "            s_0_output = dqn(s_0_tensor)\n",
    "            s_0_output = s_0_output[range(0, 128), actions]\n",
    "            \n",
    "            s_1_tensor = torch.tensor(s_1, dtype=torch.float)\n",
    "            s_1_output = dqn(s_1_tensor)\n",
    "            s_1_output = torch.max(s_1_output, dim=1).values\n",
    "            s_1_output = gamma * s_1_output\n",
    "            \n",
    "            rewards = torch.tensor(rewards, dtype=torch.float)\n",
    "            \n",
    "            done_ar = torch.tensor(done_ar, dtype=torch.float)\n",
    "            \n",
    "            error = rewards + (s_1_output * (1-done_ar)) - s_0_output\n",
    "            loss = torch.pow(error, 2)\n",
    "            loss = torch.mean(loss)\n",
    "            all_losses.append(loss.item())\n",
    "            \n",
    "            loss.backward()\n",
    "            optimizer.step()\n",
    "        \n",
    "        observation = next_observation.copy()\n",
    "        \n",
    "        if done:\n",
    "            break\n",
    "            \n",
    "        if frame % 200 == 0:\n",
    "            plot(frame, all_rewards, all_losses)\n",
    "            \n",
    "    lifespan.append(counter)\n",
    "    all_rewards.append(counter)"
   ]
  },
  {
   "cell_type": "code",
   "execution_count": null,
   "metadata": {},
   "outputs": [],
   "source": []
  },
  {
   "cell_type": "code",
   "execution_count": null,
   "metadata": {},
   "outputs": [],
   "source": []
  }
 ],
 "metadata": {
  "kernelspec": {
   "display_name": "Python 3",
   "language": "python",
   "name": "python3"
  },
  "language_info": {
   "codemirror_mode": {
    "name": "ipython",
    "version": 3
   },
   "file_extension": ".py",
   "mimetype": "text/x-python",
   "name": "python",
   "nbconvert_exporter": "python",
   "pygments_lexer": "ipython3",
   "version": "3.7.3"
  }
 },
 "nbformat": 4,
 "nbformat_minor": 2
}
